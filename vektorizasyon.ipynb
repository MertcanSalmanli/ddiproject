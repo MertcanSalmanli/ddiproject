{
 "cells": [
  {
   "cell_type": "code",
   "execution_count": 2,
   "metadata": {},
   "outputs": [
    {
     "name": "stdout",
     "output_type": "stream",
     "text": [
      "İşlemler tamamlandı.\n"
     ]
    }
   ],
   "source": [
    "#--VEKTORİZASYON--\n",
    "\n",
    "import pandas as pd\n",
    "from gensim.models import Word2Vec\n",
    "import numpy as np\n",
    "from scipy.linalg import triu\n",
    "# Excel dosyasını oku\n",
    "df = pd.read_excel('stemmed_dosya.xlsx')\n",
    "\n",
    "# Haber metinlerini ve etiketler\n",
    "haber_metni = df['Processed_Haber'].apply(lambda x: x.split())  \n",
    "etiketler = df['Etiket']\n",
    "# Word2Vec modeli\n",
    "model = Word2Vec(sentences=haber_metni, vector_size=100, window=5, min_count=1, workers=4)\n",
    "\n",
    "# vektörize etme\n",
    "def vectorize_text(text, model):\n",
    "    words = text.split()\n",
    "    word_vectors = [model.wv[word] for word in words if word in model.wv]\n",
    "    if len(word_vectors) > 0:\n",
    "        return np.mean(word_vectors, axis=0)\n",
    "    else:\n",
    "        return np.zeros(model.vector_size)\n",
    "    \n",
    "haber_vektorleri = np.array([vectorize_text(haber, model) for haber in df['Processed_Haber']])\n",
    "\n",
    "# Yeni DataFrame \n",
    "vektor_df = pd.DataFrame(haber_vektorleri)\n",
    "vektor_df['Etiket'] = etiketler\n",
    "\n",
    "# Vektörleri ve etiketleri bir CSV dosyasına kaydetme\n",
    "vektor_df.to_csv('vektorlenen_dosya.csv', index=False)\n",
    "print(\"İşlemler tamamlandı.\")\n"
   ]
  }
 ],
 "metadata": {
  "kernelspec": {
   "display_name": "Python 3",
   "language": "python",
   "name": "python3"
  },
  "language_info": {
   "codemirror_mode": {
    "name": "ipython",
    "version": 3
   },
   "file_extension": ".py",
   "mimetype": "text/x-python",
   "name": "python",
   "nbconvert_exporter": "python",
   "pygments_lexer": "ipython3",
   "version": "3.12.3"
  }
 },
 "nbformat": 4,
 "nbformat_minor": 2
}
