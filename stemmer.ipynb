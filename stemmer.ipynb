{
 "cells": [
  {
   "cell_type": "code",
   "execution_count": 1,
   "metadata": {},
   "outputs": [
    {
     "name": "stdout",
     "output_type": "stream",
     "text": [
      "İşlemler tamamlandı.\n"
     ]
    }
   ],
   "source": [
    "#---STEMMER--\n",
    "\n",
    "import nltk\n",
    "from nltk.stem import PorterStemmer\n",
    "import pandas as pd\n",
    "\n",
    "# NLTK'nin gerekli kaynaklarını indirin (bu adımı daha önce yapmadıysanız):\n",
    "# nltk.download('punkt')\n",
    "\n",
    "# Veri dosyasını yükleyin (dosyanızın gerçek yolunu belirtmelisiniz)\n",
    "data = pd.read_excel(\"onislenen_dosya.xlsx\")\n",
    "\n",
    "# Porter Stemmer'ı oluşturun\n",
    "stemmer = PorterStemmer()\n",
    "\n",
    "# Stemming işlemini uygulamak için bir fonksiyon tanımlayın\n",
    "def stem_text(text):\n",
    "    tokens = nltk.word_tokenize(text)\n",
    "    stemmed_tokens = [stemmer.stem(token) for token in tokens]\n",
    "    return \" \".join(stemmed_tokens)\n",
    "\n",
    "# 'column_name' değişkeni, stemmer uygulanacak sütunun adını belirtir\n",
    "column_name = 'Processed_Haber'  # Metin içeren sütunun adını değiştirin\n",
    "\n",
    "# Stemming işlemini uygulayın\n",
    "data[column_name] = data[column_name].apply(stem_text)\n",
    "\n",
    "# Sonuçları kaydedin (isteğe bağlı)\n",
    "data.to_excel(\"stemmed_dosya.xlsx\", index=False)\n",
    "print(\"İşlemler tamamlandı.\")\n"
   ]
  }
 ],
 "metadata": {
  "kernelspec": {
   "display_name": "Python 3",
   "language": "python",
   "name": "python3"
  },
  "language_info": {
   "codemirror_mode": {
    "name": "ipython",
    "version": 3
   },
   "file_extension": ".py",
   "mimetype": "text/x-python",
   "name": "python",
   "nbconvert_exporter": "python",
   "pygments_lexer": "ipython3",
   "version": "3.12.3"
  }
 },
 "nbformat": 4,
 "nbformat_minor": 2
}
