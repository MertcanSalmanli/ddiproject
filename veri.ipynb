{
 "cells": [
  {
   "cell_type": "code",
   "execution_count": 1,
   "metadata": {},
   "outputs": [
    {
     "name": "stderr",
     "output_type": "stream",
     "text": [
      "c:\\Users\\Mertcan\\AppData\\Local\\Programs\\Python\\Python312\\Lib\\site-packages\\tqdm\\auto.py:21: TqdmWarning: IProgress not found. Please update jupyter and ipywidgets. See https://ipywidgets.readthedocs.io/en/stable/user_install.html\n",
      "  from .autonotebook import tqdm as notebook_tqdm\n",
      "[nltk_data] Downloading package punkt to\n",
      "[nltk_data]     C:\\Users\\Mertcan\\AppData\\Roaming\\nltk_data...\n",
      "[nltk_data]   Package punkt is already up-to-date!\n",
      "[nltk_data] Downloading package stopwords to\n",
      "[nltk_data]     C:\\Users\\Mertcan\\AppData\\Roaming\\nltk_data...\n",
      "[nltk_data]   Package stopwords is already up-to-date!\n",
      "Downloading https://raw.githubusercontent.com/stanfordnlp/stanza-resources/main/resources_1.8.0.json: 379kB [00:00, 6.44MB/s]                    \n",
      "2024-05-20 00:48:06 INFO: Downloaded file to C:\\Users\\Mertcan\\stanza_resources\\resources.json\n",
      "2024-05-20 00:48:06 INFO: Downloading default packages for language: tr (Turkish) ...\n",
      "2024-05-20 00:48:07 INFO: File exists: C:\\Users\\Mertcan\\stanza_resources\\tr\\default.zip\n",
      "2024-05-20 00:48:09 INFO: Finished downloading models and saved to C:\\Users\\Mertcan\\stanza_resources\n",
      "2024-05-20 00:48:09 INFO: Checking for updates to resources.json in case models have been updated.  Note: this behavior can be turned off with download_method=None or download_method=DownloadMethod.REUSE_RESOURCES\n",
      "Downloading https://raw.githubusercontent.com/stanfordnlp/stanza-resources/main/resources_1.8.0.json: 379kB [00:00, 5.27MB/s]                    \n",
      "2024-05-20 00:48:09 INFO: Downloaded file to C:\\Users\\Mertcan\\stanza_resources\\resources.json\n",
      "2024-05-20 00:48:10 INFO: Loading these models for language: tr (Turkish):\n",
      "=============================\n",
      "| Processor | Package       |\n",
      "-----------------------------\n",
      "| tokenize  | imst          |\n",
      "| mwt       | imst          |\n",
      "| pos       | imst_charlm   |\n",
      "| lemma     | imst_nocharlm |\n",
      "=============================\n",
      "\n",
      "2024-05-20 00:48:10 INFO: Using device: cpu\n",
      "2024-05-20 00:48:10 INFO: Loading: tokenize\n",
      "2024-05-20 00:48:11 INFO: Loading: mwt\n",
      "2024-05-20 00:48:11 INFO: Loading: pos\n",
      "2024-05-20 00:48:11 INFO: Loading: lemma\n",
      "2024-05-20 00:48:11 INFO: Done loading processors!\n"
     ]
    },
    {
     "name": "stdout",
     "output_type": "stream",
     "text": [
      "İşlemler tamamlandı.\n"
     ]
    }
   ],
   "source": [
    "\n",
    "# 1--VERİ ÖNİŞLEME--\n",
    "\n",
    "import pandas as pd\n",
    "import stanza\n",
    "import re\n",
    "import nltk\n",
    "from nltk.tokenize import word_tokenize\n",
    "from nltk.corpus import stopwords\n",
    "\n",
    "# NLTK Türkçe stopwords ve tokenizerlar\n",
    "nltk.download('punkt')\n",
    "nltk.download('stopwords')\n",
    "\n",
    "# Türkçe stopwords'ler\n",
    "stop_words = set(stopwords.words('turkish'))\n",
    "\n",
    "# Stanza \n",
    "stanza.download('tr')\n",
    "nlp = stanza.Pipeline(lang='tr', processors='tokenize,mwt,pos,lemma')\n",
    "\n",
    "file_path = r'C:\\Users\\Mertcan\\Documents\\PythonProjects\\Doğal_Dil_İşleme_Veri_Modelleme\\data2.xlsx'\n",
    "df = pd.read_excel(file_path)\n",
    "\n",
    "# Önişleme \n",
    "def preprocess_text(text):\n",
    "    text = text.lower()\n",
    "    text = re.sub(r'[^\\w\\s]', '', text)\n",
    "    text = re.sub(r'\\d+', '', text)\n",
    "    tokens = word_tokenize(text)\n",
    "    tokens = [word for word in tokens if word not in stop_words]\n",
    "    lemmatized_tokens = []\n",
    "    for token in tokens:\n",
    "        doc = nlp(token)\n",
    "        for sent in doc.sentences:\n",
    "            for word in sent.words:\n",
    "                lemmatized_tokens.append(word.lemma)\n",
    "    return lemmatized_tokens\n",
    "\n",
    "# Haber sütunundaki metinleri önişleme ve etiketleri birleştirme\n",
    "processed_texts = df['Haber Gövdesi'].apply(preprocess_text)\n",
    "etiketler = df['Sınıf']\n",
    "\n",
    "# DataFrame'i güncelleme\n",
    "df_processed = pd.DataFrame({'Processed_Haber': processed_texts, 'Etiket': etiketler})\n",
    "\n",
    "# İşlenmiş veri setini yeni bir Excel dosyasına kaydetme\n",
    "df_processed.to_excel('onislenen_dosya.xlsx', index=False)\n",
    "print(\"İşlemler tamamlandı.\")\n",
    "\n"
   ]
  }
 ],
 "metadata": {
  "kernelspec": {
   "display_name": "Python 3",
   "language": "python",
   "name": "python3"
  },
  "language_info": {
   "codemirror_mode": {
    "name": "ipython",
    "version": 3
   },
   "file_extension": ".py",
   "mimetype": "text/x-python",
   "name": "python",
   "nbconvert_exporter": "python",
   "pygments_lexer": "ipython3",
   "version": "3.12.3"
  }
 },
 "nbformat": 4,
 "nbformat_minor": 2
}
